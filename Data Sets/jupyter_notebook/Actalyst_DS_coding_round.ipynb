{
  "nbformat": 4,
  "nbformat_minor": 0,
  "metadata": {
    "colab": {
      "provenance": []
    },
    "kernelspec": {
      "name": "python3",
      "display_name": "Python 3"
    },
    "language_info": {
      "name": "python"
    }
  },
  "cells": [
    {
      "cell_type": "markdown",
      "source": [
        "# **Actalyst Data Science Coding interview**"
      ],
      "metadata": {
        "id": "Y_kJ2DTOkeaD"
      }
    },
    {
      "cell_type": "markdown",
      "source": [
        "## Hyderabad Rent Prediction Problem\n",
        "The challenge is to train a machine learning model which can predict the rent of house.Data is split into train, test and validate datasets. Y variable for the prediction is Price column (unavailable for validate dataset)\n",
        "\n",
        "\n",
        "*   Data has following columns (Bedrooms, Bathroom, Furnishings, Tenants, Area, Price, Locality, Location)\n",
        "*   Another two files(Location.txt & Pincode.txt) which contain Location and Pincode mapping are provided in another folder\n",
        "\n",
        "Following are the criteria for selection\n",
        "*   Code quality and reusability\n",
        "*   Python libraries understanding\n",
        "*   Model evaluation using validate dataset (MSE) \n",
        "\n",
        "\n",
        "\n",
        "\n",
        "\n",
        "\n"
      ],
      "metadata": {
        "id": "LpZwkpP2kpUk"
      }
    },
    {
      "cell_type": "markdown",
      "source": [
        "**Read the datasets below**"
      ],
      "metadata": {
        "id": "ni4QsjLEomvB"
      }
    },
    {
      "cell_type": "code",
      "source": [],
      "metadata": {
        "id": "UnE5YozPn_3G"
      },
      "execution_count": null,
      "outputs": []
    },
    {
      "cell_type": "code",
      "source": [],
      "metadata": {
        "id": "jB_Dan3ekk9I"
      },
      "execution_count": null,
      "outputs": []
    },
    {
      "cell_type": "markdown",
      "source": [
        "**EDA, Data Cleaning, Data processing (Imputation, categorical variables, variable encoding, feature engineering etc)**"
      ],
      "metadata": {
        "id": "udAR4RjYowlO"
      }
    },
    {
      "cell_type": "code",
      "source": [],
      "metadata": {
        "id": "9BkEhsX6o70E"
      },
      "execution_count": null,
      "outputs": []
    },
    {
      "cell_type": "code",
      "source": [],
      "metadata": {
        "id": "r4FGEN7Uo8cl"
      },
      "execution_count": null,
      "outputs": []
    },
    {
      "cell_type": "code",
      "source": [],
      "metadata": {
        "id": "_UoWcp29o8gX"
      },
      "execution_count": null,
      "outputs": []
    },
    {
      "cell_type": "markdown",
      "source": [
        "**Model training ( any ML model)**\n",
        "\n",
        "Use train dataset only"
      ],
      "metadata": {
        "id": "booWvnYmo9CC"
      }
    },
    {
      "cell_type": "code",
      "source": [],
      "metadata": {
        "id": "g9igKVN4pEPO"
      },
      "execution_count": null,
      "outputs": []
    },
    {
      "cell_type": "code",
      "source": [],
      "metadata": {
        "id": "P_HlodKypI1N"
      },
      "execution_count": null,
      "outputs": []
    },
    {
      "cell_type": "code",
      "source": [],
      "metadata": {
        "id": "kdlSW1rypI92"
      },
      "execution_count": null,
      "outputs": []
    },
    {
      "cell_type": "markdown",
      "source": [
        "**Model selection**\n",
        "\n",
        "Select the best model and save the model as a pickle file"
      ],
      "metadata": {
        "id": "BN0kpETspM1S"
      }
    },
    {
      "cell_type": "code",
      "source": [],
      "metadata": {
        "id": "484UaMoupUJA"
      },
      "execution_count": null,
      "outputs": []
    },
    {
      "cell_type": "code",
      "source": [],
      "metadata": {
        "id": "3CLh7PxopVAt"
      },
      "execution_count": null,
      "outputs": []
    },
    {
      "cell_type": "code",
      "source": [],
      "metadata": {
        "id": "SHUbmSEKpVEA"
      },
      "execution_count": null,
      "outputs": []
    },
    {
      "cell_type": "markdown",
      "source": [
        "**Model Validation**\n",
        "\n",
        "Write a function (predict_rent) which completes all pre-processing steps required to predict the rent of a house, using the pickle file (trained model)\n",
        "\n",
        "Input : validate dataframe / array\n",
        "\n",
        "Output : Price dataframe ,expected output shape (147,1)\n",
        "\n",
        "Save the output as following yourname_validate_prices.csv\n"
      ],
      "metadata": {
        "id": "SN01SXy-pdWU"
      }
    },
    {
      "cell_type": "code",
      "source": [],
      "metadata": {
        "id": "VzeSA6kiqMAR"
      },
      "execution_count": null,
      "outputs": []
    },
    {
      "cell_type": "code",
      "source": [],
      "metadata": {
        "id": "Tauabi_yqPDV"
      },
      "execution_count": null,
      "outputs": []
    },
    {
      "cell_type": "code",
      "source": [],
      "metadata": {
        "id": "lujGEK1_qPGT"
      },
      "execution_count": null,
      "outputs": []
    }
  ]
}